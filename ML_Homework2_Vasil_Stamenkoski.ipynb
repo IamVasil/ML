{
 "cells": [
  {
   "attachments": {},
   "cell_type": "markdown",
   "metadata": {},
   "source": [
    "# Workshop week 2 Vasil Stamenkoski"
   ]
  },
  {
   "cell_type": "markdown",
   "metadata": {},
   "source": [
    "In this workshop we will compare all classifiers from the past 2 weeeks that we learned about so far with the diabetes dataset and try to find the best possible model parameters. \n",
    "<br><br>\n",
    "1. Make a 5Fold CV.\n",
    "<br><br>\n",
    "2. Fit a dummy classifier.\n",
    "<br><br>\n",
    "3. Fit a Gaussian Naive Bayes classifier.\n",
    "<br><br>\n",
    "4. Fit a KNN classifier. Do a grid search to find optimal parameters 'n_neighbors' in range of 1 to 50. Once you find optimal K refit a model with those parameters on X_train, y_train.\n",
    "<br><br>\n",
    "5. Fit a Decision tree classifier. Find optimal parameter values for 'max_depth' in range of 1 to 10. Once you find optimal max_depth refit a model with those parameters on X_train, y_train.\n",
    "<br><br>\n",
    "6. Fit a support vector classifier. Try to find optimal parameter values for the following 3 parameters. For kernel try ['rbf', 'sigmoid'], for the soft margin parameter C try [0.1, 1, 10, 100] and for the gamma parameter try [1,0.1,0.01,0.001] (the gamma parameter defines how far the influence of a single training example reaches). Once you find optimal parameters refit a model with those parameters on X_train, y_train.\n",
    "<br><br>\n",
    "7. Fit Random Forest Classifier with default parameters.\n",
    "<br><br>\n",
    "8. Fit BaggingClassifier with base_estimator=DecisionTreeClassifier().\n",
    "<br><br>\n",
    "9. Fit AdaBoostClassifier with base_estimator=DecisionTreeClassifier().\n",
    "<br><br>\n",
    "10. Fit Voting Classifier with 'DecisionTreeClassifier(), SVC(degree=2, kernel='poly') and Gaussian Naive Bayes. (or try your own Vote Classifier)\n",
    "<br><br>\n",
    "11. Optional: Try Voting(weighted), Stacking, Boosting algorithm.\n",
    "\n",
    "<br><br>\n",
    "12. **Summary:** Compare and discuss the results, compare the f1_score of all the best models on the KFold CV, analyze the classification report. \n",
    "<br>\n",
    "*Note:* Use random_state = 42"
   ]
  },
  {
   "cell_type": "code",
   "execution_count": 1,
   "metadata": {},
   "outputs": [],
   "source": [
    "import numpy as np\n",
    "import pandas as pd\n",
    "\n",
    "from sklearn.pipeline import Pipeline\n",
    "\n",
    "# For performing train/test/split\n",
    "from sklearn.model_selection import train_test_split, KFold, StratifiedKFold, cross_val_score\n",
    "\n",
    "# import all the models\n",
    "from sklearn.pipeline import Pipeline\n",
    "from sklearn.dummy import DummyClassifier\n",
    "from sklearn.naive_bayes import GaussianNB\n",
    "from sklearn.tree import DecisionTreeClassifier\n",
    "from sklearn.neighbors import KNeighborsClassifier\n",
    "from sklearn.ensemble import RandomForestClassifier, BaggingClassifier, AdaBoostClassifier, VotingClassifier\n",
    "from sklearn.svm import SVC\n",
    "from sklearn.model_selection import GridSearchCV\n",
    "# For computing accuracy score\n",
    "from sklearn.metrics import classification_report, confusion_matrix, accuracy_score, f1_score, precision_score, recall_score, make_scorer\n",
    "from sklearn.preprocessing import MinMaxScaler"
   ]
  },
  {
   "cell_type": "markdown",
   "metadata": {},
   "source": []
  },
  {
   "cell_type": "code",
   "execution_count": 2,
   "metadata": {},
   "outputs": [],
   "source": [
    "# CONSTANTS AND FLAGS\n",
    "RANDOM_STATE = 42\n",
    "N_SPLITS = 5"
   ]
  },
  {
   "cell_type": "markdown",
   "metadata": {},
   "source": [
    "## Dataset info\n",
    "<br>\n",
    "This dataset is originally from the National Institute of Diabetes and Digestive and Kidney Diseases. The objective of the dataset is to diagnostically predict whether or not a patient has diabetes, based on certain diagnostic measurements included in the dataset. Several constraints were placed on the selection of these instances from a larger database. In particular, all patients here are females at least 21 years old of Pima Indian heritage.\n",
    "<br><br>\n",
    "Content<br>\n",
    "The datasets consists of several medical predictor variables and one target variable, Outcome. Predictor variables includes the number of pregnancies the patient has had, their BMI, insulin level, age, and so on.\n",
    "<br><br>\n",
    "Acknowledgements<br>\n",
    "Smith, J.W., Everhart, J.E., Dickson, W.C., Knowler, W.C., & Johannes, R.S. (1988). Using the ADAP learning algorithm to forecast the onset of diabetes mellitus. In Proceedings of the Symposium on Computer Applications and Medical Care (pp. 261--265). IEEE Computer Society Press."
   ]
  },
  {
   "cell_type": "code",
   "execution_count": 3,
   "metadata": {},
   "outputs": [
    {
     "data": {
      "text/html": [
       "<div>\n",
       "<style scoped>\n",
       "    .dataframe tbody tr th:only-of-type {\n",
       "        vertical-align: middle;\n",
       "    }\n",
       "\n",
       "    .dataframe tbody tr th {\n",
       "        vertical-align: top;\n",
       "    }\n",
       "\n",
       "    .dataframe thead th {\n",
       "        text-align: right;\n",
       "    }\n",
       "</style>\n",
       "<table border=\"1\" class=\"dataframe\">\n",
       "  <thead>\n",
       "    <tr style=\"text-align: right;\">\n",
       "      <th></th>\n",
       "      <th>preg</th>\n",
       "      <th>plas</th>\n",
       "      <th>pres</th>\n",
       "      <th>skin</th>\n",
       "      <th>insu</th>\n",
       "      <th>mass</th>\n",
       "      <th>pedi</th>\n",
       "      <th>age</th>\n",
       "    </tr>\n",
       "  </thead>\n",
       "  <tbody>\n",
       "    <tr>\n",
       "      <th>0</th>\n",
       "      <td>6.0</td>\n",
       "      <td>148.0</td>\n",
       "      <td>72.0</td>\n",
       "      <td>35.0</td>\n",
       "      <td>0.0</td>\n",
       "      <td>33.6</td>\n",
       "      <td>0.627</td>\n",
       "      <td>50.0</td>\n",
       "    </tr>\n",
       "    <tr>\n",
       "      <th>1</th>\n",
       "      <td>1.0</td>\n",
       "      <td>85.0</td>\n",
       "      <td>66.0</td>\n",
       "      <td>29.0</td>\n",
       "      <td>0.0</td>\n",
       "      <td>26.6</td>\n",
       "      <td>0.351</td>\n",
       "      <td>31.0</td>\n",
       "    </tr>\n",
       "    <tr>\n",
       "      <th>2</th>\n",
       "      <td>8.0</td>\n",
       "      <td>183.0</td>\n",
       "      <td>64.0</td>\n",
       "      <td>0.0</td>\n",
       "      <td>0.0</td>\n",
       "      <td>23.3</td>\n",
       "      <td>0.672</td>\n",
       "      <td>32.0</td>\n",
       "    </tr>\n",
       "    <tr>\n",
       "      <th>3</th>\n",
       "      <td>1.0</td>\n",
       "      <td>89.0</td>\n",
       "      <td>66.0</td>\n",
       "      <td>23.0</td>\n",
       "      <td>94.0</td>\n",
       "      <td>28.1</td>\n",
       "      <td>0.167</td>\n",
       "      <td>21.0</td>\n",
       "    </tr>\n",
       "    <tr>\n",
       "      <th>4</th>\n",
       "      <td>0.0</td>\n",
       "      <td>137.0</td>\n",
       "      <td>40.0</td>\n",
       "      <td>35.0</td>\n",
       "      <td>168.0</td>\n",
       "      <td>43.1</td>\n",
       "      <td>2.288</td>\n",
       "      <td>33.0</td>\n",
       "    </tr>\n",
       "    <tr>\n",
       "      <th>...</th>\n",
       "      <td>...</td>\n",
       "      <td>...</td>\n",
       "      <td>...</td>\n",
       "      <td>...</td>\n",
       "      <td>...</td>\n",
       "      <td>...</td>\n",
       "      <td>...</td>\n",
       "      <td>...</td>\n",
       "    </tr>\n",
       "    <tr>\n",
       "      <th>763</th>\n",
       "      <td>10.0</td>\n",
       "      <td>101.0</td>\n",
       "      <td>76.0</td>\n",
       "      <td>48.0</td>\n",
       "      <td>180.0</td>\n",
       "      <td>32.9</td>\n",
       "      <td>0.171</td>\n",
       "      <td>63.0</td>\n",
       "    </tr>\n",
       "    <tr>\n",
       "      <th>764</th>\n",
       "      <td>2.0</td>\n",
       "      <td>122.0</td>\n",
       "      <td>70.0</td>\n",
       "      <td>27.0</td>\n",
       "      <td>0.0</td>\n",
       "      <td>36.8</td>\n",
       "      <td>0.340</td>\n",
       "      <td>27.0</td>\n",
       "    </tr>\n",
       "    <tr>\n",
       "      <th>765</th>\n",
       "      <td>5.0</td>\n",
       "      <td>121.0</td>\n",
       "      <td>72.0</td>\n",
       "      <td>23.0</td>\n",
       "      <td>112.0</td>\n",
       "      <td>26.2</td>\n",
       "      <td>0.245</td>\n",
       "      <td>30.0</td>\n",
       "    </tr>\n",
       "    <tr>\n",
       "      <th>766</th>\n",
       "      <td>1.0</td>\n",
       "      <td>126.0</td>\n",
       "      <td>60.0</td>\n",
       "      <td>0.0</td>\n",
       "      <td>0.0</td>\n",
       "      <td>30.1</td>\n",
       "      <td>0.349</td>\n",
       "      <td>47.0</td>\n",
       "    </tr>\n",
       "    <tr>\n",
       "      <th>767</th>\n",
       "      <td>1.0</td>\n",
       "      <td>93.0</td>\n",
       "      <td>70.0</td>\n",
       "      <td>31.0</td>\n",
       "      <td>0.0</td>\n",
       "      <td>30.4</td>\n",
       "      <td>0.315</td>\n",
       "      <td>23.0</td>\n",
       "    </tr>\n",
       "  </tbody>\n",
       "</table>\n",
       "<p>768 rows × 8 columns</p>\n",
       "</div>"
      ],
      "text/plain": [
       "     preg   plas  pres  skin   insu  mass   pedi   age\n",
       "0     6.0  148.0  72.0  35.0    0.0  33.6  0.627  50.0\n",
       "1     1.0   85.0  66.0  29.0    0.0  26.6  0.351  31.0\n",
       "2     8.0  183.0  64.0   0.0    0.0  23.3  0.672  32.0\n",
       "3     1.0   89.0  66.0  23.0   94.0  28.1  0.167  21.0\n",
       "4     0.0  137.0  40.0  35.0  168.0  43.1  2.288  33.0\n",
       "..    ...    ...   ...   ...    ...   ...    ...   ...\n",
       "763  10.0  101.0  76.0  48.0  180.0  32.9  0.171  63.0\n",
       "764   2.0  122.0  70.0  27.0    0.0  36.8  0.340  27.0\n",
       "765   5.0  121.0  72.0  23.0  112.0  26.2  0.245  30.0\n",
       "766   1.0  126.0  60.0   0.0    0.0  30.1  0.349  47.0\n",
       "767   1.0   93.0  70.0  31.0    0.0  30.4  0.315  23.0\n",
       "\n",
       "[768 rows x 8 columns]"
      ]
     },
     "execution_count": 3,
     "metadata": {},
     "output_type": "execute_result"
    }
   ],
   "source": [
    "# read the dataset\n",
    "df = pd.read_csv('diabetes.csv')\n",
    "\n",
    "# drop the unwanted columns\n",
    "df.drop(['Unnamed: 0', 'id'], axis='columns', inplace=True)\n",
    "\n",
    "# set our target vector\n",
    "y = df['class']\n",
    "\n",
    "# set our feature columns\n",
    "X = df.drop('class', axis='columns')\n",
    "X"
   ]
  },
  {
   "cell_type": "code",
   "execution_count": 4,
   "metadata": {},
   "outputs": [
    {
     "name": "stdout",
     "output_type": "stream",
     "text": [
      "0    500\n",
      "1    268\n",
      "Name: class, dtype: int64\n"
     ]
    }
   ],
   "source": [
    "# see how balanced our data is\n",
    "print(y.value_counts())"
   ]
  },
  {
   "cell_type": "code",
   "execution_count": 5,
   "metadata": {},
   "outputs": [],
   "source": [
    "# define our KFold class\n",
    "kf = StratifiedKFold(n_splits=N_SPLITS, random_state=RANDOM_STATE, shuffle=True)"
   ]
  },
  {
   "cell_type": "markdown",
   "metadata": {},
   "source": [
    "## Define our baseline models"
   ]
  },
  {
   "cell_type": "code",
   "execution_count": 6,
   "metadata": {},
   "outputs": [
    {
     "name": "stdout",
     "output_type": "stream",
     "text": [
      "[0.64935065 0.64935065 0.64935065 0.65359477 0.65359477]\n",
      "0.6510482981071216\n",
      "[0. 0. 0. 0. 0.]\n",
      "0.0\n"
     ]
    }
   ],
   "source": [
    "# DUMMY MODEL\n",
    "pipeline = Pipeline([('mms', MinMaxScaler()), ('clf', DummyClassifier())])\n",
    "\n",
    "rez_acc = cross_val_score(pipeline, X, y, cv=kf, scoring=make_scorer(accuracy_score))\n",
    "print(rez_acc)\n",
    "print(np.mean(rez_acc))\n",
    "\n",
    "rez_f1 = cross_val_score(pipeline, X, y, cv=kf, scoring=make_scorer(f1_score))\n",
    "print(rez_f1)\n",
    "print(np.mean(rez_f1))"
   ]
  },
  {
   "cell_type": "code",
   "execution_count": 7,
   "metadata": {},
   "outputs": [
    {
     "name": "stdout",
     "output_type": "stream",
     "text": [
      "[0.64935065 0.64935065 0.64935065 0.65359477 0.65359477]\n",
      "0.6510482981071216\n",
      "[0. 0. 0. 0. 0.]\n",
      "0.0\n"
     ]
    }
   ],
   "source": [
    "# BASELINE MODEL\n",
    "pipeline = Pipeline([('mms', MinMaxScaler()), ('clf', DummyClassifier())])\n",
    "\n",
    "rez_acc = cross_val_score(pipeline, X, y, cv=kf, scoring=make_scorer(accuracy_score))\n",
    "print(rez_acc)\n",
    "print(np.mean(rez_acc))\n",
    "\n",
    "rez_f1 = cross_val_score(pipeline, X, y, cv=kf, scoring=make_scorer(f1_score))\n",
    "print(rez_f1)\n",
    "print(np.mean(rez_f1))\n"
   ]
  },
  {
   "cell_type": "markdown",
   "metadata": {},
   "source": [
    "## Define our model"
   ]
  },
  {
   "cell_type": "code",
   "execution_count": 8,
   "metadata": {},
   "outputs": [
    {
     "name": "stdout",
     "output_type": "stream",
     "text": [
      "[0.65979381 0.67326733 0.65306122 0.59793814 0.62135922]\n",
      "0.6410839466572653\n"
     ]
    }
   ],
   "source": [
    "pipeline = Pipeline([('mms', MinMaxScaler()), ('clf', RandomForestClassifier(max_depth=10, n_estimators=100, criterion='gini', max_samples=0.67, random_state=RANDOM_STATE))])\n",
    "\n",
    "rez_f1 = cross_val_score(pipeline, X, y, cv=kf, scoring=make_scorer(f1_score))\n",
    "print(rez_f1)\n",
    "print(np.mean(rez_f1))"
   ]
  },
  {
   "cell_type": "code",
   "execution_count": 9,
   "metadata": {},
   "outputs": [
    {
     "ename": "NameError",
     "evalue": "name 'X_train' is not defined",
     "output_type": "error",
     "traceback": [
      "\u001b[1;31m---------------------------------------------------------------------------\u001b[0m",
      "\u001b[1;31mNameError\u001b[0m                                 Traceback (most recent call last)",
      "Cell \u001b[1;32mIn[9], line 15\u001b[0m\n\u001b[0;32m     13\u001b[0m \u001b[39m# Perform grid search with 5-fold cross validation\u001b[39;00m\n\u001b[0;32m     14\u001b[0m grid \u001b[39m=\u001b[39m GridSearchCV(knn, param_grid, cv\u001b[39m=\u001b[39m\u001b[39m5\u001b[39m)\n\u001b[1;32m---> 15\u001b[0m grid\u001b[39m.\u001b[39mfit(X_train, y_train)\n\u001b[0;32m     17\u001b[0m \u001b[39m# Find the optimal number of neighbors\u001b[39;00m\n\u001b[0;32m     18\u001b[0m optimal_k \u001b[39m=\u001b[39m grid\u001b[39m.\u001b[39mbest_params_[\u001b[39m'\u001b[39m\u001b[39mn_neighbors\u001b[39m\u001b[39m'\u001b[39m]\n",
      "\u001b[1;31mNameError\u001b[0m: name 'X_train' is not defined"
     ]
    }
   ],
   "source": [
    "##Fit a KNN classifier. Do a grid search to find optimal parameters 'n_neighbors' in range of 1 to 50. \n",
    "#Once you find optimal K refit a model with those parameters on X_train, y_train.\n",
    "\n",
    "from sklearn.neighbors import KNeighborsClassifier\n",
    "from sklearn.model_selection import GridSearchCV\n",
    "\n",
    "# Define the model\n",
    "knn = KNeighborsClassifier()\n",
    "\n",
    "# Define the parameter grid to search\n",
    "param_grid = {'n_neighbors': range(1, 51)}\n",
    "\n",
    "# Perform grid search with 5-fold cross validation\n",
    "grid = GridSearchCV(knn, param_grid, cv=5)\n",
    "grid.fit(X_train, y_train)\n",
    "\n",
    "# Find the optimal number of neighbors\n",
    "optimal_k = grid.best_params_['n_neighbors']\n",
    "\n",
    "# Refit the model with optimal number of neighbors\n",
    "knn = KNeighborsClassifier(n_neighbors=optimal_k)\n",
    "knn.fit(X_train, y_train)\n",
    "\n",
    "# Print the accuracy score on the training data\n",
    "print('Accuracy on training data:', knn.score(X_train, y_train))\n",
    "\n",
    "\n"
   ]
  },
  {
   "cell_type": "code",
   "execution_count": null,
   "metadata": {},
   "outputs": [
    {
     "name": "stdout",
     "output_type": "stream",
     "text": [
      "{'knn__n_neighbors': 8}\n",
      "Accuracy on training data: 0.7768729641693811\n"
     ]
    }
   ],
   "source": [
    "##Fit same model ffrom above with pipeline\n",
    "# Split the data into training and test sets\n",
    "X_train, X_test, y_train, y_test = train_test_split(X, y, test_size=0.2, random_state=42)\n",
    "\n",
    "# Create a pipeline\n",
    "pipe = Pipeline([('knn', KNeighborsClassifier())])\n",
    "\n",
    "# Create a dictionary of parameters to search over\n",
    "param_grid = {'knn__n_neighbors': range(1,51)}\n",
    "\n",
    "# Create a GridSearchCV object\n",
    "grid_search = GridSearchCV(pipe, param_grid, cv=5, n_jobs=-1)\n",
    "\n",
    "# Fit the GridSearchCV object to the training data\n",
    "grid_search.fit(X_train, y_train)\n",
    "\n",
    "# Print the best value of n_neighbors found\n",
    "print(grid_search.best_params_)\n",
    "\n",
    "# Access the best estimator\n",
    "best_model = grid_search.best_estimator_\n",
    "\n",
    "# Print the accuracy score on the training data\n",
    "print('Accuracy on training data:', knn.score(X_train, y_train))"
   ]
  },
  {
   "cell_type": "code",
   "execution_count": null,
   "metadata": {},
   "outputs": [
    {
     "name": "stdout",
     "output_type": "stream",
     "text": [
      "Optimal max_depth value:  {'max_depth': 3}\n",
      "Accuracy on training data: 0.7768729641693811\n"
     ]
    }
   ],
   "source": [
    "#5. Fit a Decision tree classifier. Find optimal parameter values for 'max_depth' in range of 1 to 10. \n",
    "#Once you find optimal max_depth refit a model with those parameters on X_train, y_train.\n",
    "\n",
    "# Create the Decision Tree classifier\n",
    "dt = DecisionTreeClassifier()\n",
    "\n",
    "# Specify the parameter grid for max_depth\n",
    "param_grid = {'max_depth': range(1, 11)}\n",
    "\n",
    "# Create the GridSearchCV object\n",
    "grid_search = GridSearchCV(dt, param_grid, cv=5)\n",
    "\n",
    "# Fit the GridSearchCV object to the training data\n",
    "grid_search.fit(X_train, y_train)\n",
    "\n",
    "# Print the optimal max_depth value\n",
    "print(\"Optimal max_depth value: \", grid_search.best_params_)\n",
    "\n",
    "# Create the Decision Tree classifier with optimal max_depth\n",
    "dt = DecisionTreeClassifier(max_depth=grid_search.best_params_['max_depth'])\n",
    "\n",
    "# Fit the Decision Tree classifier to the training data\n",
    "dt.fit(X_train, y_train)\n",
    "\n",
    "print('Accuracy on training data:', dt.score(X_train, y_train))"
   ]
  },
  {
   "cell_type": "code",
   "execution_count": null,
   "metadata": {},
   "outputs": [
    {
     "data": {
      "text/html": [
       "<style>#sk-container-id-3 {color: black;background-color: white;}#sk-container-id-3 pre{padding: 0;}#sk-container-id-3 div.sk-toggleable {background-color: white;}#sk-container-id-3 label.sk-toggleable__label {cursor: pointer;display: block;width: 100%;margin-bottom: 0;padding: 0.3em;box-sizing: border-box;text-align: center;}#sk-container-id-3 label.sk-toggleable__label-arrow:before {content: \"▸\";float: left;margin-right: 0.25em;color: #696969;}#sk-container-id-3 label.sk-toggleable__label-arrow:hover:before {color: black;}#sk-container-id-3 div.sk-estimator:hover label.sk-toggleable__label-arrow:before {color: black;}#sk-container-id-3 div.sk-toggleable__content {max-height: 0;max-width: 0;overflow: hidden;text-align: left;background-color: #f0f8ff;}#sk-container-id-3 div.sk-toggleable__content pre {margin: 0.2em;color: black;border-radius: 0.25em;background-color: #f0f8ff;}#sk-container-id-3 input.sk-toggleable__control:checked~div.sk-toggleable__content {max-height: 200px;max-width: 100%;overflow: auto;}#sk-container-id-3 input.sk-toggleable__control:checked~label.sk-toggleable__label-arrow:before {content: \"▾\";}#sk-container-id-3 div.sk-estimator input.sk-toggleable__control:checked~label.sk-toggleable__label {background-color: #d4ebff;}#sk-container-id-3 div.sk-label input.sk-toggleable__control:checked~label.sk-toggleable__label {background-color: #d4ebff;}#sk-container-id-3 input.sk-hidden--visually {border: 0;clip: rect(1px 1px 1px 1px);clip: rect(1px, 1px, 1px, 1px);height: 1px;margin: -1px;overflow: hidden;padding: 0;position: absolute;width: 1px;}#sk-container-id-3 div.sk-estimator {font-family: monospace;background-color: #f0f8ff;border: 1px dotted black;border-radius: 0.25em;box-sizing: border-box;margin-bottom: 0.5em;}#sk-container-id-3 div.sk-estimator:hover {background-color: #d4ebff;}#sk-container-id-3 div.sk-parallel-item::after {content: \"\";width: 100%;border-bottom: 1px solid gray;flex-grow: 1;}#sk-container-id-3 div.sk-label:hover label.sk-toggleable__label {background-color: #d4ebff;}#sk-container-id-3 div.sk-serial::before {content: \"\";position: absolute;border-left: 1px solid gray;box-sizing: border-box;top: 0;bottom: 0;left: 50%;z-index: 0;}#sk-container-id-3 div.sk-serial {display: flex;flex-direction: column;align-items: center;background-color: white;padding-right: 0.2em;padding-left: 0.2em;position: relative;}#sk-container-id-3 div.sk-item {position: relative;z-index: 1;}#sk-container-id-3 div.sk-parallel {display: flex;align-items: stretch;justify-content: center;background-color: white;position: relative;}#sk-container-id-3 div.sk-item::before, #sk-container-id-3 div.sk-parallel-item::before {content: \"\";position: absolute;border-left: 1px solid gray;box-sizing: border-box;top: 0;bottom: 0;left: 50%;z-index: -1;}#sk-container-id-3 div.sk-parallel-item {display: flex;flex-direction: column;z-index: 1;position: relative;background-color: white;}#sk-container-id-3 div.sk-parallel-item:first-child::after {align-self: flex-end;width: 50%;}#sk-container-id-3 div.sk-parallel-item:last-child::after {align-self: flex-start;width: 50%;}#sk-container-id-3 div.sk-parallel-item:only-child::after {width: 0;}#sk-container-id-3 div.sk-dashed-wrapped {border: 1px dashed gray;margin: 0 0.4em 0.5em 0.4em;box-sizing: border-box;padding-bottom: 0.4em;background-color: white;}#sk-container-id-3 div.sk-label label {font-family: monospace;font-weight: bold;display: inline-block;line-height: 1.2em;}#sk-container-id-3 div.sk-label-container {text-align: center;}#sk-container-id-3 div.sk-container {/* jupyter's `normalize.less` sets `[hidden] { display: none; }` but bootstrap.min.css set `[hidden] { display: none !important; }` so we also need the `!important` here to be able to override the default hidden behavior on the sphinx rendered scikit-learn.org. See: https://github.com/scikit-learn/scikit-learn/issues/21755 */display: inline-block !important;position: relative;}#sk-container-id-3 div.sk-text-repr-fallback {display: none;}</style><div id=\"sk-container-id-3\" class=\"sk-top-container\"><div class=\"sk-text-repr-fallback\"><pre>Pipeline(steps=[(&#x27;dt&#x27;, DecisionTreeClassifier(max_depth=3))])</pre><b>In a Jupyter environment, please rerun this cell to show the HTML representation or trust the notebook. <br />On GitHub, the HTML representation is unable to render, please try loading this page with nbviewer.org.</b></div><div class=\"sk-container\" hidden><div class=\"sk-item sk-dashed-wrapped\"><div class=\"sk-label-container\"><div class=\"sk-label sk-toggleable\"><input class=\"sk-toggleable__control sk-hidden--visually\" id=\"sk-estimator-id-4\" type=\"checkbox\" ><label for=\"sk-estimator-id-4\" class=\"sk-toggleable__label sk-toggleable__label-arrow\">Pipeline</label><div class=\"sk-toggleable__content\"><pre>Pipeline(steps=[(&#x27;dt&#x27;, DecisionTreeClassifier(max_depth=3))])</pre></div></div></div><div class=\"sk-serial\"><div class=\"sk-item\"><div class=\"sk-estimator sk-toggleable\"><input class=\"sk-toggleable__control sk-hidden--visually\" id=\"sk-estimator-id-5\" type=\"checkbox\" ><label for=\"sk-estimator-id-5\" class=\"sk-toggleable__label sk-toggleable__label-arrow\">DecisionTreeClassifier</label><div class=\"sk-toggleable__content\"><pre>DecisionTreeClassifier(max_depth=3)</pre></div></div></div></div></div></div></div>"
      ],
      "text/plain": [
       "Pipeline(steps=[('dt', DecisionTreeClassifier(max_depth=3))])"
      ]
     },
     "execution_count": 61,
     "metadata": {},
     "output_type": "execute_result"
    }
   ],
   "source": [
    "#5. Fit a Decision tree classifier. Find optimal parameter values for 'max_depth' in range of 1 to 10. \n",
    "#Once you find optimal max_depth refit a model with those parameters on X_train, y_train with pipeline\n",
    "\n",
    "# Initialize the decision tree classifier with the optimal max_depth\n",
    "dt = DecisionTreeClassifier(max_depth=grid_search.best_params_['max_depth'])\n",
    "\n",
    "# Create a pipeline with the decision tree classifier\n",
    "pipe = Pipeline([('dt', dt)])\n",
    "\n",
    "# Fit the pipeline to the training data\n",
    "pipe.fit(X_train, y_train)\n"
   ]
  },
  {
   "cell_type": "code",
   "execution_count": null,
   "metadata": {},
   "outputs": [
    {
     "name": "stdout",
     "output_type": "stream",
     "text": [
      "Accuracy on training data: 0.8550488599348535\n"
     ]
    }
   ],
   "source": [
    "#Fit a support vector classifier. Try to find optimal parameter values for the following 3 parameters. \n",
    "#For kernel try ['rbf', 'sigmoid'], for the soft margin parameter C try [0.1, 1, 10, 100] and for the gamma parameter try [1,0.1,0.01,0.001].\n",
    "# Once you find optimal parameters refit a model with those parameters on X_train, y_train\n",
    "\n",
    "\n",
    "\n",
    "# Define the model\n",
    "svc = SVC()\n",
    "\n",
    "# Define the parameter grid to search\n",
    "param_grid = {'kernel': ['rbf', 'sigmoid'], 'C': [0.1, 1, 10, 100], 'gamma': [1, 0.1, 0.01, 0.001]}\n",
    "\n",
    "# Perform grid search with 5-fold cross validation\n",
    "grid = GridSearchCV(svc, param_grid, cv=5)\n",
    "grid.fit(X_train, y_train)\n",
    "\n",
    "# Find the optimal parameters\n",
    "optimal_kernel = grid.best_params_['kernel']\n",
    "optimal_C = grid.best_params_['C']\n",
    "optimal_gamma = grid.best_params_['gamma']\n",
    "\n",
    "# Refit the model with optimal parameters\n",
    "svc = SVC(kernel=optimal_kernel, C=optimal_C, gamma=optimal_gamma)\n",
    "svc.fit(X_train, y_train)\n",
    "\n",
    "# Print the accuracy score on the training data\n",
    "print('Accuracy on training data:', svc.score(X_train, y_train))\n",
    "\n",
    "\n"
   ]
  },
  {
   "cell_type": "code",
   "execution_count": null,
   "metadata": {},
   "outputs": [
    {
     "data": {
      "text/html": [
       "<style>#sk-container-id-4 {color: black;background-color: white;}#sk-container-id-4 pre{padding: 0;}#sk-container-id-4 div.sk-toggleable {background-color: white;}#sk-container-id-4 label.sk-toggleable__label {cursor: pointer;display: block;width: 100%;margin-bottom: 0;padding: 0.3em;box-sizing: border-box;text-align: center;}#sk-container-id-4 label.sk-toggleable__label-arrow:before {content: \"▸\";float: left;margin-right: 0.25em;color: #696969;}#sk-container-id-4 label.sk-toggleable__label-arrow:hover:before {color: black;}#sk-container-id-4 div.sk-estimator:hover label.sk-toggleable__label-arrow:before {color: black;}#sk-container-id-4 div.sk-toggleable__content {max-height: 0;max-width: 0;overflow: hidden;text-align: left;background-color: #f0f8ff;}#sk-container-id-4 div.sk-toggleable__content pre {margin: 0.2em;color: black;border-radius: 0.25em;background-color: #f0f8ff;}#sk-container-id-4 input.sk-toggleable__control:checked~div.sk-toggleable__content {max-height: 200px;max-width: 100%;overflow: auto;}#sk-container-id-4 input.sk-toggleable__control:checked~label.sk-toggleable__label-arrow:before {content: \"▾\";}#sk-container-id-4 div.sk-estimator input.sk-toggleable__control:checked~label.sk-toggleable__label {background-color: #d4ebff;}#sk-container-id-4 div.sk-label input.sk-toggleable__control:checked~label.sk-toggleable__label {background-color: #d4ebff;}#sk-container-id-4 input.sk-hidden--visually {border: 0;clip: rect(1px 1px 1px 1px);clip: rect(1px, 1px, 1px, 1px);height: 1px;margin: -1px;overflow: hidden;padding: 0;position: absolute;width: 1px;}#sk-container-id-4 div.sk-estimator {font-family: monospace;background-color: #f0f8ff;border: 1px dotted black;border-radius: 0.25em;box-sizing: border-box;margin-bottom: 0.5em;}#sk-container-id-4 div.sk-estimator:hover {background-color: #d4ebff;}#sk-container-id-4 div.sk-parallel-item::after {content: \"\";width: 100%;border-bottom: 1px solid gray;flex-grow: 1;}#sk-container-id-4 div.sk-label:hover label.sk-toggleable__label {background-color: #d4ebff;}#sk-container-id-4 div.sk-serial::before {content: \"\";position: absolute;border-left: 1px solid gray;box-sizing: border-box;top: 0;bottom: 0;left: 50%;z-index: 0;}#sk-container-id-4 div.sk-serial {display: flex;flex-direction: column;align-items: center;background-color: white;padding-right: 0.2em;padding-left: 0.2em;position: relative;}#sk-container-id-4 div.sk-item {position: relative;z-index: 1;}#sk-container-id-4 div.sk-parallel {display: flex;align-items: stretch;justify-content: center;background-color: white;position: relative;}#sk-container-id-4 div.sk-item::before, #sk-container-id-4 div.sk-parallel-item::before {content: \"\";position: absolute;border-left: 1px solid gray;box-sizing: border-box;top: 0;bottom: 0;left: 50%;z-index: -1;}#sk-container-id-4 div.sk-parallel-item {display: flex;flex-direction: column;z-index: 1;position: relative;background-color: white;}#sk-container-id-4 div.sk-parallel-item:first-child::after {align-self: flex-end;width: 50%;}#sk-container-id-4 div.sk-parallel-item:last-child::after {align-self: flex-start;width: 50%;}#sk-container-id-4 div.sk-parallel-item:only-child::after {width: 0;}#sk-container-id-4 div.sk-dashed-wrapped {border: 1px dashed gray;margin: 0 0.4em 0.5em 0.4em;box-sizing: border-box;padding-bottom: 0.4em;background-color: white;}#sk-container-id-4 div.sk-label label {font-family: monospace;font-weight: bold;display: inline-block;line-height: 1.2em;}#sk-container-id-4 div.sk-label-container {text-align: center;}#sk-container-id-4 div.sk-container {/* jupyter's `normalize.less` sets `[hidden] { display: none; }` but bootstrap.min.css set `[hidden] { display: none !important; }` so we also need the `!important` here to be able to override the default hidden behavior on the sphinx rendered scikit-learn.org. See: https://github.com/scikit-learn/scikit-learn/issues/21755 */display: inline-block !important;position: relative;}#sk-container-id-4 div.sk-text-repr-fallback {display: none;}</style><div id=\"sk-container-id-4\" class=\"sk-top-container\"><div class=\"sk-text-repr-fallback\"><pre>RandomForestClassifier(min_samples_leaf=5, min_samples_split=5)</pre><b>In a Jupyter environment, please rerun this cell to show the HTML representation or trust the notebook. <br />On GitHub, the HTML representation is unable to render, please try loading this page with nbviewer.org.</b></div><div class=\"sk-container\" hidden><div class=\"sk-item\"><div class=\"sk-estimator sk-toggleable\"><input class=\"sk-toggleable__control sk-hidden--visually\" id=\"sk-estimator-id-6\" type=\"checkbox\" checked><label for=\"sk-estimator-id-6\" class=\"sk-toggleable__label sk-toggleable__label-arrow\">RandomForestClassifier</label><div class=\"sk-toggleable__content\"><pre>RandomForestClassifier(min_samples_leaf=5, min_samples_split=5)</pre></div></div></div></div></div>"
      ],
      "text/plain": [
       "RandomForestClassifier(min_samples_leaf=5, min_samples_split=5)"
      ]
     },
     "execution_count": 63,
     "metadata": {},
     "output_type": "execute_result"
    }
   ],
   "source": [
    "classifier_rf = RandomForestClassifier(n_estimators=100,max_depth=None,min_samples_split=5,min_samples_leaf=5,max_features='sqrt',max_leaf_nodes=None)\n",
    "classifier_rf.fit(X_train, y_train)"
   ]
  },
  {
   "cell_type": "code",
   "execution_count": null,
   "metadata": {},
   "outputs": [],
   "source": [
    "y_pred_rf = classifier_rf.predict(X_test)"
   ]
  },
  {
   "cell_type": "code",
   "execution_count": null,
   "metadata": {},
   "outputs": [
    {
     "data": {
      "text/plain": [
       "array([0, 0, 0, 0, 0, 1, 0, 1, 1, 1, 0, 1, 0, 0, 0, 0, 0, 0, 1, 1, 0, 0,\n",
       "       0, 0, 0, 1, 0, 0, 0, 0, 1, 1, 1, 1, 1, 1, 1, 0, 0, 1, 0, 0, 1, 0,\n",
       "       0, 1, 1, 0, 0, 1, 0, 1, 1, 0, 0, 0, 1, 0, 0, 1, 1, 0, 0, 0, 0, 1,\n",
       "       0, 1, 0, 1, 1, 0, 0, 0, 0, 0, 0, 0, 0, 0, 1, 0, 0, 0, 0, 1, 1, 1,\n",
       "       0, 0, 0, 0, 0, 0, 0, 1, 1, 0, 1, 0, 1, 0, 1, 1, 1, 0, 0, 1, 0, 1,\n",
       "       0, 0, 0, 1, 0, 0, 1, 0, 0, 0, 0, 0, 0, 0, 0, 0, 0, 1, 1, 1, 0, 1,\n",
       "       0, 0, 1, 0, 0, 1, 1, 0, 0, 0, 0, 0, 0, 0, 0, 0, 0, 1, 0, 0, 0, 0],\n",
       "      dtype=int64)"
      ]
     },
     "execution_count": 65,
     "metadata": {},
     "output_type": "execute_result"
    }
   ],
   "source": [
    "y_pred_rf"
   ]
  },
  {
   "cell_type": "code",
   "execution_count": null,
   "metadata": {},
   "outputs": [
    {
     "name": "stdout",
     "output_type": "stream",
     "text": [
      "Accuracy for Random Forest is: 0.7727272727272727\n"
     ]
    }
   ],
   "source": [
    "from sklearn import metrics\n",
    "print(\"Accuracy for Random Forest is:\",metrics.accuracy_score(y_test, y_pred_rf))"
   ]
  },
  {
   "cell_type": "code",
   "execution_count": null,
   "metadata": {},
   "outputs": [
    {
     "name": "stdout",
     "output_type": "stream",
     "text": [
      "              precision    recall  f1-score   support\n",
      "\n",
      "           0       0.81      0.84      0.83        99\n",
      "           1       0.69      0.65      0.67        55\n",
      "\n",
      "    accuracy                           0.77       154\n",
      "   macro avg       0.75      0.75      0.75       154\n",
      "weighted avg       0.77      0.77      0.77       154\n",
      "\n"
     ]
    }
   ],
   "source": [
    "print(classification_report(y_test,y_pred_rf))"
   ]
  },
  {
   "cell_type": "code",
   "execution_count": null,
   "metadata": {},
   "outputs": [
    {
     "data": {
      "text/plain": [
       "0.9055374592833876"
      ]
     },
     "execution_count": 68,
     "metadata": {},
     "output_type": "execute_result"
    }
   ],
   "source": [
    "accuracy_score(y_train, classifier_rf.predict(X_train))"
   ]
  },
  {
   "cell_type": "code",
   "execution_count": null,
   "metadata": {},
   "outputs": [
    {
     "data": {
      "text/plain": [
       "array([[83, 16],\n",
       "       [19, 36]], dtype=int64)"
      ]
     },
     "execution_count": 69,
     "metadata": {},
     "output_type": "execute_result"
    }
   ],
   "source": [
    "confusion_matrix(y_test, y_pred_rf)"
   ]
  },
  {
   "cell_type": "code",
   "execution_count": null,
   "metadata": {},
   "outputs": [
    {
     "data": {
      "image/png": "[encoded data removed]",
      "text/plain": [
       "<Figure size 640x480 with 2 Axes>"
      ]
     },
     "metadata": {},
     "output_type": "display_data"
    }
   ],
   "source": [
    "import matplotlib.pyplot as plt\n",
    "import seaborn as sns \n",
    "cm = confusion_matrix(y_test, y_pred_rf)\n",
    "sns.heatmap(cm, annot=True, fmt=\"d\")\n",
    "\n",
    "plt.yticks(np.arange(1))\n",
    "plt.ylabel('True labels');\n",
    "plt.xlabel('Predicted labels');\n",
    "plt.title('Confusion matrix');"
   ]
  },
  {
   "cell_type": "code",
   "execution_count": null,
   "metadata": {},
   "outputs": [
    {
     "name": "stdout",
     "output_type": "stream",
     "text": [
      "Precision_score is: 0.8137254901960784\n",
      "recall_score is: 0.8383838383838383\n",
      "f1_score_micro is: 0.7727272727272727\n",
      "f1_score_weighted is: 0.7712372715859953\n"
     ]
    }
   ],
   "source": [
    "print('Precision_score is:', metrics.precision_score(y_test, y_pred_rf, pos_label=0))\n",
    "print('recall_score is:', metrics.recall_score(y_test, y_pred_rf, pos_label=0))\n",
    "print('f1_score_micro is:', metrics.f1_score(y_test, y_pred_rf, average='micro'))\n",
    "print('f1_score_weighted is:', metrics.f1_score(y_test, y_pred_rf, average='weighted'))"
   ]
  },
  {
   "cell_type": "code",
   "execution_count": null,
   "metadata": {},
   "outputs": [],
   "source": [
    "abc = AdaBoostClassifier(n_estimators=50, learning_rate=1, random_state=0)\n"
   ]
  },
  {
   "cell_type": "code",
   "execution_count": null,
   "metadata": {},
   "outputs": [],
   "source": [
    "model1 = abc.fit(X_train, y_train)"
   ]
  },
  {
   "cell_type": "code",
   "execution_count": null,
   "metadata": {},
   "outputs": [],
   "source": [
    "y_pred = model1.predict(X_test)"
   ]
  },
  {
   "cell_type": "code",
   "execution_count": null,
   "metadata": {},
   "outputs": [
    {
     "name": "stdout",
     "output_type": "stream",
     "text": [
      "AdaBoost Classifier Model Accuracy is: 0.7337662337662337\n"
     ]
    }
   ],
   "source": [
    "print(\"AdaBoost Classifier Model Accuracy is:\", accuracy_score(y_test, y_pred))"
   ]
  },
  {
   "cell_type": "code",
   "execution_count": null,
   "metadata": {},
   "outputs": [],
   "source": [
    "svc=SVC(probability=True, kernel='linear')"
   ]
  },
  {
   "cell_type": "code",
   "execution_count": null,
   "metadata": {},
   "outputs": [],
   "source": [
    "abc =AdaBoostClassifier(n_estimators=50,estimator=svc,learning_rate=1, random_state=0)\n"
   ]
  },
  {
   "cell_type": "code",
   "execution_count": null,
   "metadata": {},
   "outputs": [],
   "source": [
    "model2 = abc.fit(X_train, y_train)"
   ]
  },
  {
   "cell_type": "code",
   "execution_count": null,
   "metadata": {},
   "outputs": [],
   "source": [
    "y_pred = model2.predict(X_test)"
   ]
  },
  {
   "cell_type": "code",
   "execution_count": null,
   "metadata": {},
   "outputs": [
    {
     "name": "stdout",
     "output_type": "stream",
     "text": [
      "Model Accuracy with SVC Base Estimator: 0.6428571428571429\n"
     ]
    }
   ],
   "source": [
    "print(\"Model Accuracy with SVC Base Estimator:\",accuracy_score(y_test, y_pred))"
   ]
  },
  {
   "cell_type": "code",
   "execution_count": null,
   "metadata": {},
   "outputs": [
    {
     "name": "stdout",
     "output_type": "stream",
     "text": [
      "Model Accuracy with Bagging Clasifier is:\n",
      "0.7643229166666666\n"
     ]
    }
   ],
   "source": [
    "from sklearn import model_selection\n",
    "seed = 8\n",
    "kfold = model_selection.KFold(n_splits = 3,random_state = seed,shuffle=True)\n",
    " \n",
    "# initialize the base classifier\n",
    "base_cls = DecisionTreeClassifier()\n",
    " \n",
    "# no. of base classifier\n",
    "num_trees = 500\n",
    " \n",
    "# bagging classifier\n",
    "model = BaggingClassifier(estimator = base_cls,n_estimators = num_trees,random_state = seed)\n",
    " \n",
    "results = model_selection.cross_val_score(model, X, y, cv = kfold)\n",
    "print(\"Model Accuracy with Bagging Clasifier is:\")\n",
    "print(results.mean())"
   ]
  },
  {
   "cell_type": "code",
   "execution_count": null,
   "metadata": {},
   "outputs": [
    {
     "name": "stdout",
     "output_type": "stream",
     "text": [
      "Accuracy of the voting classifier: 79.87%\n"
     ]
    }
   ],
   "source": [
    "###Voting dt & Gaus & svc\n",
    "from sklearn.tree import DecisionTreeClassifier\n",
    "from sklearn.svm import SVC\n",
    "from sklearn.naive_bayes import GaussianNB\n",
    "from sklearn.ensemble import VotingClassifier\n",
    "from sklearn.metrics import accuracy_score\n",
    "\n",
    "# Define individual classifiers\n",
    "dt_clf = DecisionTreeClassifier(random_state=42)\n",
    "svc_clf = SVC(degree=2, kernel='poly', probability=True, random_state=42)\n",
    "gnb_clf = GaussianNB()\n",
    "\n",
    "# Define the voting classifier\n",
    "voting_clf = VotingClassifier(estimators=[('dt', dt_clf), ('svc', svc_clf), ('gnb', gnb_clf)], voting='hard')\n",
    "\n",
    "# Fit the voting classifier to your training data\n",
    "voting_clf.fit(X_train, y_train)\n",
    "\n",
    "#Make prediction\n",
    "y_pred = voting_clf.predict(X_test)\n",
    "\n",
    "#Calculate acc\n",
    "acc = accuracy_score(y_test,y_pred)\n",
    "\n",
    "#print acc of voting clf\n",
    "print(\"Accuracy of the voting classifier: {:.2f}%\".format(acc * 100))\n"
   ]
  },
  {
   "cell_type": "code",
   "execution_count": null,
   "metadata": {},
   "outputs": [
    {
     "name": "stdout",
     "output_type": "stream",
     "text": [
      "Hard Voting Score  0\n",
      "Soft Voting Score  0\n"
     ]
    }
   ],
   "source": [
    "###Voting dt & Gaus & svc & lr\n",
    "from sklearn.ensemble import VotingClassifier\n",
    "from sklearn.linear_model import LogisticRegression\n",
    "estimator = []\n",
    "estimator.append(('LR', LogisticRegression(solver ='lbfgs',  multi_class ='multinomial', max_iter = 200)))\n",
    "estimator.append(('SVC', SVC(degree=2, kernel='poly', probability=True, random_state=42)))\n",
    "estimator.append(('DTC', DecisionTreeClassifier(criterion='entropy',max_depth=7,random_state=42,)))\n",
    "estimator.append(('GN',GaussianNB()))\n",
    "  \n",
    "# Voting Classifier with hard voting\n",
    "vot_hard = VotingClassifier(estimators = estimator, voting ='hard')\n",
    "vot_hard.fit(X_train, y_train)\n",
    "y_pred = vot_hard.predict(X_test)\n",
    "  \n",
    "# using accuracy_score metric to predict accuracy\n",
    "score = accuracy_score(y_test, y_pred)\n",
    "print(\"Hard Voting Score % d\" % score)\n",
    "  \n",
    "# Voting Classifier with soft voting\n",
    "vot_soft = VotingClassifier(estimators = estimator, voting ='soft')\n",
    "vot_soft.fit(X_train, y_train)\n",
    "y_pred = vot_soft.predict(X_test)\n",
    "  \n",
    "# using accuracy_score\n",
    "score = accuracy_score(y_test, y_pred)\n",
    "print(\"Soft Voting Score % d\" % score)"
   ]
  },
  {
   "cell_type": "code",
   "execution_count": null,
   "metadata": {},
   "outputs": [
    {
     "name": "stdout",
     "output_type": "stream",
     "text": [
      "Accuracy of the weighted voting classifier: 79.87%\n",
      "Accuracy of the stacking classifier: 79.22%\n",
      "Accuracy of the graadient classifier: 74.68%\n",
      "Accuracy of the adaboost classifier: 74.68%\n"
     ]
    }
   ],
   "source": [
    "##Optional task with all the models with accuracy_score\n",
    "\n",
    "from sklearn.tree import DecisionTreeClassifier\n",
    "from sklearn.svm import SVC\n",
    "from sklearn.naive_bayes import GaussianNB\n",
    "from sklearn.ensemble import VotingClassifier, StackingClassifier, AdaBoostClassifier,GradientBoostingClassifier\n",
    "from sklearn.metrics import accuracy_score,f1_score\n",
    "\n",
    "# Define individual classifiers\n",
    "dt_clf = DecisionTreeClassifier(random_state=42)\n",
    "svc_clf = SVC(degree=2, kernel='poly', probability=True, random_state=42)\n",
    "gnb_clf = GaussianNB()\n",
    "\n",
    "# Define the voting classifier with weights\n",
    "voting_clf_weights = VotingClassifier(estimators=[('dt', dt_clf), ('svc', svc_clf), ('gnb', gnb_clf)], voting='hard',weights=[5, 9, 7])\n",
    "\n",
    "# Fit the voting classifier to your training data\n",
    "voting_clf_weights.fit(X_train, y_train)\n",
    "\n",
    "# Use the voting classifier to make predictions on the test data\n",
    "y_pred_weights = voting_clf_weights.predict(X_test)\n",
    "\n",
    "# Calculate the accuracy of the voting classifier\n",
    "accuracy_weights = accuracy_score(y_test, y_pred_weights)\n",
    "\n",
    "# Define the stacking classifier\n",
    "stacking_clf = StackingClassifier(estimators=[('dt', dt_clf), ('svc', svc_clf), ('gnb', gnb_clf)], final_estimator=LogisticRegression(random_state=42))\n",
    "\n",
    "# Fit the stacking classifier to your training data\n",
    "stacking_clf.fit(X_train, y_train)\n",
    "\n",
    "# Use the stacking classifier to make predictions on the test data\n",
    "y_pred_stacking = stacking_clf.predict(X_test)\n",
    "\n",
    "# Calculate the accuracy of the stacking classifier\n",
    "accuracy_stacking = accuracy_score(y_test, y_pred_stacking)\n",
    "\n",
    "# Define the boosting classifier\n",
    "boosting_clf = GradientBoostingClassifier(n_estimators=100, random_state=42)\n",
    "\n",
    "# Fit the boosting classifier to your training data\n",
    "boosting_clf.fit(X_train, y_train)\n",
    "\n",
    "# Use the boosting classifier to make predictions on the test data\n",
    "y_pred_boosting = boosting_clf.predict(X_test)\n",
    "\n",
    "# Calculate the accuracy of the boosting classifier\n",
    "accuracy_boosting = accuracy_score(y_test, y_pred_boosting)\n",
    "\n",
    "# Define the boosting classifier\n",
    "boosting_clf = AdaBoostClassifier(estimator=dt_clf, n_estimators=100, random_state=42)\n",
    "\n",
    "# Fit the boosting classifier to your training data\n",
    "boosting_clf.fit(X_train, y_train)\n",
    "\n",
    "# Use the boosting classifier to make predictions on the test data\n",
    "y_pred_boosting = boosting_clf.predict(X_test)\n",
    "\n",
    "# Calculate the accuracy of the boosting classifier\n",
    "accuracy_boosting = accuracy_score(y_test, y_pred_boosting)\n",
    "\n",
    "\n",
    "# Print the accuracy of each algorithm\n",
    "print(\"Accuracy of the weighted voting classifier: {:.2f}%\".format(accuracy_weights * 100))\n",
    "print(\"Accuracy of the stacking classifier: {:.2f}%\".format(accuracy_stacking * 100))\n",
    "print(\"Accuracy of the graadient classifier: {:.2f}%\".format(accuracy_boosting * 100))\n",
    "print(\"Accuracy of the adaboost classifier: {:.2f}%\".format(accuracy_boosting * 100))\n"
   ]
  },
  {
   "cell_type": "code",
   "execution_count": null,
   "metadata": {},
   "outputs": [
    {
     "name": "stdout",
     "output_type": "stream",
     "text": [
      "F1_score of the weighted voting classifier: 69.90%\n",
      "F1_score of the stacking classifier: 69.23%\n",
      "F1_score of the graadient classifier: 67.77%\n",
      "F1_score of the adaboost classifier: 67.77%\n"
     ]
    }
   ],
   "source": [
    "##Optional task with all the models with f1_score\n",
    "\n",
    "from sklearn.tree import DecisionTreeClassifier\n",
    "from sklearn.svm import SVC\n",
    "from sklearn.naive_bayes import GaussianNB\n",
    "from sklearn.ensemble import VotingClassifier, StackingClassifier, AdaBoostClassifier,GradientBoostingClassifier\n",
    "from sklearn.metrics import f1_score\n",
    "\n",
    "# Define individual classifiers\n",
    "dt_clf = DecisionTreeClassifier(random_state=42)\n",
    "svc_clf = SVC(degree=2, kernel='poly', probability=True, random_state=42)\n",
    "gnb_clf = GaussianNB()\n",
    "\n",
    "# Define the voting classifier with weights\n",
    "voting_clf_weights = VotingClassifier(estimators=[('dt', dt_clf), ('svc', svc_clf), ('gnb', gnb_clf)], voting='hard',weights=[5, 9, 7])\n",
    "\n",
    "# Fit the voting classifier to your training data\n",
    "voting_clf_weights.fit(X_train, y_train)\n",
    "\n",
    "# Use the voting classifier to make predictions on the test data\n",
    "y_pred_weights = voting_clf_weights.predict(X_test)\n",
    "\n",
    "# Calculate the accuracy of the voting classifier\n",
    "f1_weights = f1_score(y_test, y_pred_weights)\n",
    "\n",
    "# Define the stacking classifier\n",
    "stacking_clf = StackingClassifier(estimators=[('dt', dt_clf), ('svc', svc_clf), ('gnb', gnb_clf)], final_estimator=LogisticRegression(random_state=42))\n",
    "\n",
    "# Fit the stacking classifier to your training data\n",
    "stacking_clf.fit(X_train, y_train)\n",
    "\n",
    "# Use the stacking classifier to make predictions on the test data\n",
    "y_pred_stacking = stacking_clf.predict(X_test)\n",
    "\n",
    "# Calculate the accuracy of the stacking classifier\n",
    "f1_stacking = f1_score(y_test, y_pred_stacking)\n",
    "\n",
    "# Define the boosting classifier\n",
    "boosting_clf = GradientBoostingClassifier(n_estimators=100, random_state=42)\n",
    "\n",
    "# Fit the boosting classifier to your training data\n",
    "boosting_clf.fit(X_train, y_train)\n",
    "\n",
    "# Use the boosting classifier to make predictions on the test data\n",
    "y_pred_boosting = boosting_clf.predict(X_test)\n",
    "\n",
    "# Calculate the accuracy of the boosting classifier\n",
    "f1_boosting = f1_score(y_test, y_pred_boosting)\n",
    "\n",
    "# Define the boosting classifier\n",
    "boosting_clf = AdaBoostClassifier(estimator=dt_clf, n_estimators=100, random_state=42)\n",
    "\n",
    "# Fit the boosting classifier to your training data\n",
    "boosting_clf.fit(X_train, y_train)\n",
    "\n",
    "# Use the boosting classifier to make predictions on the test data\n",
    "y_pred_boosting = boosting_clf.predict(X_test)\n",
    "\n",
    "# Calculate the accuracy of the boosting classifier\n",
    "f1_boosting = f1_score(y_test, y_pred_boosting)\n",
    "\n",
    "\n",
    "# Print the accuracy of each algorithm\n",
    "print(\"F1_score of the weighted voting classifier: {:.2f}%\".format(f1_weights * 100))\n",
    "print(\"F1_score of the stacking classifier: {:.2f}%\".format(f1_stacking * 100))\n",
    "print(\"F1_score of the graadient classifier: {:.2f}%\".format(f1_boosting * 100))\n",
    "print(\"F1_score of the adaboost classifier: {:.2f}%\".format(f1_boosting * 100))\n"
   ]
  },
  {
   "cell_type": "code",
   "execution_count": null,
   "metadata": {},
   "outputs": [
    {
     "name": "stdout",
     "output_type": "stream",
     "text": [
      "Vasil Stamenkoski\n"
     ]
    }
   ],
   "source": [
    "print('Vasil Stamenkoski')"
   ]
  },
  {
   "cell_type": "code",
   "execution_count": null,
   "metadata": {},
   "outputs": [],
   "source": []
  }
 ],
 "metadata": {
  "kernelspec": {
   "display_name": "Python 3",
   "language": "python",
   "name": "python3"
  },
  "language_info": {
   "codemirror_mode": {
    "name": "ipython",
    "version": 3
   },
   "file_extension": ".py",
   "mimetype": "text/x-python",
   "name": "python",
   "nbconvert_exporter": "python",
   "pygments_lexer": "ipython3",
   "version": "3.10.6"
  },
  "vscode": {
   "interpreter": {
    "hash": "26de051ba29f2982a8de78e945f0abaf191376122a1563185a90213a26c5da77"
   }
  }
 },
 "nbformat": 4,
 "nbformat_minor": 2
}
