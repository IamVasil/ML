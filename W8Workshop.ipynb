{
 "cells": [
  {
   "cell_type": "code",
   "execution_count": 58,
   "metadata": {},
   "outputs": [],
   "source": [
    "from keras.models import Sequential\n",
    "from keras.layers import Dense, BatchNormalization, Dropout, Input\n",
    "from keras.callbacks import ModelCheckpoint, EarlyStopping\n",
    "from keras.regularizers import L1, L2, L1L2\n",
    "\n",
    "import os\n",
    "import pandas as pd\n",
    "import seaborn as sns\n",
    "import matplotlib.pyplot as plt\n",
    "from sklearn.model_selection import train_test_split\n",
    "from sklearn.metrics import mean_absolute_error, mean_squared_error, r2_score\n",
    "import warnings\n",
    "warnings.filterwarnings('ignore')\n",
    "\n",
    "import random\n",
    "import numpy as np\n",
    "import tensorflow as tf\n",
    "SEED = 42\n",
    "random.seed(SEED)\n",
    "np.random.seed(SEED)\n",
    "tf.random.set_seed(SEED)\n",
    "\n",
    "\n",
    "\n",
    "import absl.logging\n",
    "import logging\n",
    "tf.get_logger().setLevel(logging.ERROR)\n",
    "absl.logging.set_verbosity(absl.logging.ERROR)"
   ]
  },
  {
   "cell_type": "code",
   "execution_count": 59,
   "metadata": {},
   "outputs": [],
   "source": [
    "data_fpath = os.path.join('hour.csv')\n",
    "raw_df = pd.read_csv(data_fpath,index_col=0)\n",
    "raw_df.drop(columns=['dteday'], inplace=True)"
   ]
  },
  {
   "cell_type": "code",
   "execution_count": 60,
   "metadata": {},
   "outputs": [
    {
     "name": "stdout",
     "output_type": "stream",
     "text": [
      "         season  yr  mnth  hr  holiday  weekday  workingday  weathersit  temp  \\\n",
      "instant                                                                         \n",
      "1             1   0     1   0        0        6           0           1  0.24   \n",
      "2             1   0     1   1        0        6           0           1  0.22   \n",
      "3             1   0     1   2        0        6           0           1  0.22   \n",
      "4             1   0     1   3        0        6           0           1  0.24   \n",
      "5             1   0     1   4        0        6           0           1  0.24   \n",
      "6             1   0     1   5        0        6           0           2  0.24   \n",
      "7             1   0     1   6        0        6           0           1  0.22   \n",
      "8             1   0     1   7        0        6           0           1  0.20   \n",
      "9             1   0     1   8        0        6           0           1  0.24   \n",
      "10            1   0     1   9        0        6           0           1  0.32   \n",
      "\n",
      "          atemp   hum  windspeed  casual  registered  cnt  \n",
      "instant                                                    \n",
      "1        0.2879  0.81     0.0000       3          13   16  \n",
      "2        0.2727  0.80     0.0000       8          32   40  \n",
      "3        0.2727  0.80     0.0000       5          27   32  \n",
      "4        0.2879  0.75     0.0000       3          10   13  \n",
      "5        0.2879  0.75     0.0000       0           1    1  \n",
      "6        0.2576  0.75     0.0896       0           1    1  \n",
      "7        0.2727  0.80     0.0000       2           0    2  \n",
      "8        0.2576  0.86     0.0000       1           2    3  \n",
      "9        0.2879  0.75     0.0000       1           7    8  \n",
      "10       0.3485  0.76     0.0000       8           6   14  \n"
     ]
    },
    {
     "data": {
      "text/html": [
       "<div>\n",
       "<style scoped>\n",
       "    .dataframe tbody tr th:only-of-type {\n",
       "        vertical-align: middle;\n",
       "    }\n",
       "\n",
       "    .dataframe tbody tr th {\n",
       "        vertical-align: top;\n",
       "    }\n",
       "\n",
       "    .dataframe thead th {\n",
       "        text-align: right;\n",
       "    }\n",
       "</style>\n",
       "<table border=\"1\" class=\"dataframe\">\n",
       "  <thead>\n",
       "    <tr style=\"text-align: right;\">\n",
       "      <th></th>\n",
       "      <th>season</th>\n",
       "      <th>yr</th>\n",
       "      <th>mnth</th>\n",
       "      <th>hr</th>\n",
       "      <th>holiday</th>\n",
       "      <th>weekday</th>\n",
       "      <th>workingday</th>\n",
       "      <th>weathersit</th>\n",
       "      <th>temp</th>\n",
       "      <th>atemp</th>\n",
       "      <th>hum</th>\n",
       "      <th>windspeed</th>\n",
       "      <th>casual</th>\n",
       "      <th>registered</th>\n",
       "      <th>cnt</th>\n",
       "    </tr>\n",
       "  </thead>\n",
       "  <tbody>\n",
       "    <tr>\n",
       "      <th>count</th>\n",
       "      <td>17379.000000</td>\n",
       "      <td>17379.000000</td>\n",
       "      <td>17379.000000</td>\n",
       "      <td>17379.000000</td>\n",
       "      <td>17379.000000</td>\n",
       "      <td>17379.000000</td>\n",
       "      <td>17379.000000</td>\n",
       "      <td>17379.000000</td>\n",
       "      <td>17379.000000</td>\n",
       "      <td>17379.000000</td>\n",
       "      <td>17379.000000</td>\n",
       "      <td>17379.000000</td>\n",
       "      <td>17379.000000</td>\n",
       "      <td>17379.000000</td>\n",
       "      <td>17379.000000</td>\n",
       "    </tr>\n",
       "    <tr>\n",
       "      <th>mean</th>\n",
       "      <td>2.501640</td>\n",
       "      <td>0.502561</td>\n",
       "      <td>6.537775</td>\n",
       "      <td>11.546752</td>\n",
       "      <td>0.028770</td>\n",
       "      <td>3.003683</td>\n",
       "      <td>0.682721</td>\n",
       "      <td>1.425283</td>\n",
       "      <td>0.496987</td>\n",
       "      <td>0.475775</td>\n",
       "      <td>0.627229</td>\n",
       "      <td>0.190098</td>\n",
       "      <td>35.676218</td>\n",
       "      <td>153.786869</td>\n",
       "      <td>189.463088</td>\n",
       "    </tr>\n",
       "    <tr>\n",
       "      <th>std</th>\n",
       "      <td>1.106918</td>\n",
       "      <td>0.500008</td>\n",
       "      <td>3.438776</td>\n",
       "      <td>6.914405</td>\n",
       "      <td>0.167165</td>\n",
       "      <td>2.005771</td>\n",
       "      <td>0.465431</td>\n",
       "      <td>0.639357</td>\n",
       "      <td>0.192556</td>\n",
       "      <td>0.171850</td>\n",
       "      <td>0.192930</td>\n",
       "      <td>0.122340</td>\n",
       "      <td>49.305030</td>\n",
       "      <td>151.357286</td>\n",
       "      <td>181.387599</td>\n",
       "    </tr>\n",
       "    <tr>\n",
       "      <th>min</th>\n",
       "      <td>1.000000</td>\n",
       "      <td>0.000000</td>\n",
       "      <td>1.000000</td>\n",
       "      <td>0.000000</td>\n",
       "      <td>0.000000</td>\n",
       "      <td>0.000000</td>\n",
       "      <td>0.000000</td>\n",
       "      <td>1.000000</td>\n",
       "      <td>0.020000</td>\n",
       "      <td>0.000000</td>\n",
       "      <td>0.000000</td>\n",
       "      <td>0.000000</td>\n",
       "      <td>0.000000</td>\n",
       "      <td>0.000000</td>\n",
       "      <td>1.000000</td>\n",
       "    </tr>\n",
       "    <tr>\n",
       "      <th>25%</th>\n",
       "      <td>2.000000</td>\n",
       "      <td>0.000000</td>\n",
       "      <td>4.000000</td>\n",
       "      <td>6.000000</td>\n",
       "      <td>0.000000</td>\n",
       "      <td>1.000000</td>\n",
       "      <td>0.000000</td>\n",
       "      <td>1.000000</td>\n",
       "      <td>0.340000</td>\n",
       "      <td>0.333300</td>\n",
       "      <td>0.480000</td>\n",
       "      <td>0.104500</td>\n",
       "      <td>4.000000</td>\n",
       "      <td>34.000000</td>\n",
       "      <td>40.000000</td>\n",
       "    </tr>\n",
       "    <tr>\n",
       "      <th>50%</th>\n",
       "      <td>3.000000</td>\n",
       "      <td>1.000000</td>\n",
       "      <td>7.000000</td>\n",
       "      <td>12.000000</td>\n",
       "      <td>0.000000</td>\n",
       "      <td>3.000000</td>\n",
       "      <td>1.000000</td>\n",
       "      <td>1.000000</td>\n",
       "      <td>0.500000</td>\n",
       "      <td>0.484800</td>\n",
       "      <td>0.630000</td>\n",
       "      <td>0.194000</td>\n",
       "      <td>17.000000</td>\n",
       "      <td>115.000000</td>\n",
       "      <td>142.000000</td>\n",
       "    </tr>\n",
       "    <tr>\n",
       "      <th>75%</th>\n",
       "      <td>3.000000</td>\n",
       "      <td>1.000000</td>\n",
       "      <td>10.000000</td>\n",
       "      <td>18.000000</td>\n",
       "      <td>0.000000</td>\n",
       "      <td>5.000000</td>\n",
       "      <td>1.000000</td>\n",
       "      <td>2.000000</td>\n",
       "      <td>0.660000</td>\n",
       "      <td>0.621200</td>\n",
       "      <td>0.780000</td>\n",
       "      <td>0.253700</td>\n",
       "      <td>48.000000</td>\n",
       "      <td>220.000000</td>\n",
       "      <td>281.000000</td>\n",
       "    </tr>\n",
       "    <tr>\n",
       "      <th>max</th>\n",
       "      <td>4.000000</td>\n",
       "      <td>1.000000</td>\n",
       "      <td>12.000000</td>\n",
       "      <td>23.000000</td>\n",
       "      <td>1.000000</td>\n",
       "      <td>6.000000</td>\n",
       "      <td>1.000000</td>\n",
       "      <td>4.000000</td>\n",
       "      <td>1.000000</td>\n",
       "      <td>1.000000</td>\n",
       "      <td>1.000000</td>\n",
       "      <td>0.850700</td>\n",
       "      <td>367.000000</td>\n",
       "      <td>886.000000</td>\n",
       "      <td>977.000000</td>\n",
       "    </tr>\n",
       "  </tbody>\n",
       "</table>\n",
       "</div>"
      ],
      "text/plain": [
       "             season            yr          mnth            hr       holiday  \\\n",
       "count  17379.000000  17379.000000  17379.000000  17379.000000  17379.000000   \n",
       "mean       2.501640      0.502561      6.537775     11.546752      0.028770   \n",
       "std        1.106918      0.500008      3.438776      6.914405      0.167165   \n",
       "min        1.000000      0.000000      1.000000      0.000000      0.000000   \n",
       "25%        2.000000      0.000000      4.000000      6.000000      0.000000   \n",
       "50%        3.000000      1.000000      7.000000     12.000000      0.000000   \n",
       "75%        3.000000      1.000000     10.000000     18.000000      0.000000   \n",
       "max        4.000000      1.000000     12.000000     23.000000      1.000000   \n",
       "\n",
       "            weekday    workingday    weathersit          temp         atemp  \\\n",
       "count  17379.000000  17379.000000  17379.000000  17379.000000  17379.000000   \n",
       "mean       3.003683      0.682721      1.425283      0.496987      0.475775   \n",
       "std        2.005771      0.465431      0.639357      0.192556      0.171850   \n",
       "min        0.000000      0.000000      1.000000      0.020000      0.000000   \n",
       "25%        1.000000      0.000000      1.000000      0.340000      0.333300   \n",
       "50%        3.000000      1.000000      1.000000      0.500000      0.484800   \n",
       "75%        5.000000      1.000000      2.000000      0.660000      0.621200   \n",
       "max        6.000000      1.000000      4.000000      1.000000      1.000000   \n",
       "\n",
       "                hum     windspeed        casual    registered           cnt  \n",
       "count  17379.000000  17379.000000  17379.000000  17379.000000  17379.000000  \n",
       "mean       0.627229      0.190098     35.676218    153.786869    189.463088  \n",
       "std        0.192930      0.122340     49.305030    151.357286    181.387599  \n",
       "min        0.000000      0.000000      0.000000      0.000000      1.000000  \n",
       "25%        0.480000      0.104500      4.000000     34.000000     40.000000  \n",
       "50%        0.630000      0.194000     17.000000    115.000000    142.000000  \n",
       "75%        0.780000      0.253700     48.000000    220.000000    281.000000  \n",
       "max        1.000000      0.850700    367.000000    886.000000    977.000000  "
      ]
     },
     "execution_count": 60,
     "metadata": {},
     "output_type": "execute_result"
    }
   ],
   "source": [
    "print(raw_df.head(10))\n",
    "raw_df.describe()"
   ]
  },
  {
   "cell_type": "code",
   "execution_count": 61,
   "metadata": {},
   "outputs": [
    {
     "data": {
      "text/plain": [
       "season        False\n",
       "yr            False\n",
       "mnth          False\n",
       "hr            False\n",
       "holiday       False\n",
       "weekday       False\n",
       "workingday    False\n",
       "weathersit    False\n",
       "temp          False\n",
       "atemp         False\n",
       "hum           False\n",
       "windspeed     False\n",
       "casual        False\n",
       "registered    False\n",
       "cnt           False\n",
       "dtype: bool"
      ]
     },
     "execution_count": 61,
     "metadata": {},
     "output_type": "execute_result"
    }
   ],
   "source": [
    "raw_df.isna().any()"
   ]
  },
  {
   "cell_type": "code",
   "execution_count": 62,
   "metadata": {},
   "outputs": [],
   "source": [
    "def eda(raw_df):\n",
    "    raw_df.describe()\n",
    "    corr_matrix = raw_df.corr(numeric_only=True).round(2)\n",
    "    plt.figure(figsize=(10,10))\n",
    "    sns.heatmap(corr_matrix,annot=True)\n",
    "    plt.show()\n",
    "    \n",
    "    plt.figure(figsize=(8,6))\n",
    "    sns.histplot(raw_df['temp'])\n",
    "    plt.show()\n",
    "    \n",
    "    plt.figure(figsize=(8,6))\n",
    "    sns.scatterplot(x='temp',y='cnt',data=raw_df)\n",
    "    plt.show()\n",
    "    \n",
    "    plt.figure(figsize=(8,6))\n",
    "    sns.boxenplot(data=raw_df,x='weathersit',y='cnt')\n",
    "    plt.show()\n",
    "    \n",
    "    return raw_df\n"
   ]
  },
  {
   "cell_type": "code",
   "execution_count": 63,
   "metadata": {},
   "outputs": [],
   "source": [
    "# atemp and temp have 0.99 corr.\n",
    "raw_df.drop(columns=['atemp'], inplace=True)"
   ]
  },
  {
   "cell_type": "code",
   "execution_count": 64,
   "metadata": {},
   "outputs": [
    {
     "name": "stdout",
     "output_type": "stream",
     "text": [
      "(17379, 14)\n"
     ]
    },
    {
     "data": {
      "text/html": [
       "<div>\n",
       "<style scoped>\n",
       "    .dataframe tbody tr th:only-of-type {\n",
       "        vertical-align: middle;\n",
       "    }\n",
       "\n",
       "    .dataframe tbody tr th {\n",
       "        vertical-align: top;\n",
       "    }\n",
       "\n",
       "    .dataframe thead th {\n",
       "        text-align: right;\n",
       "    }\n",
       "</style>\n",
       "<table border=\"1\" class=\"dataframe\">\n",
       "  <thead>\n",
       "    <tr style=\"text-align: right;\">\n",
       "      <th></th>\n",
       "      <th>season</th>\n",
       "      <th>yr</th>\n",
       "      <th>mnth</th>\n",
       "      <th>hr</th>\n",
       "      <th>holiday</th>\n",
       "      <th>weekday</th>\n",
       "      <th>workingday</th>\n",
       "      <th>weathersit</th>\n",
       "      <th>temp</th>\n",
       "      <th>hum</th>\n",
       "      <th>windspeed</th>\n",
       "      <th>casual</th>\n",
       "      <th>registered</th>\n",
       "      <th>cnt</th>\n",
       "    </tr>\n",
       "    <tr>\n",
       "      <th>instant</th>\n",
       "      <th></th>\n",
       "      <th></th>\n",
       "      <th></th>\n",
       "      <th></th>\n",
       "      <th></th>\n",
       "      <th></th>\n",
       "      <th></th>\n",
       "      <th></th>\n",
       "      <th></th>\n",
       "      <th></th>\n",
       "      <th></th>\n",
       "      <th></th>\n",
       "      <th></th>\n",
       "      <th></th>\n",
       "    </tr>\n",
       "  </thead>\n",
       "  <tbody>\n",
       "    <tr>\n",
       "      <th>1</th>\n",
       "      <td>1</td>\n",
       "      <td>0</td>\n",
       "      <td>1</td>\n",
       "      <td>0</td>\n",
       "      <td>0</td>\n",
       "      <td>6</td>\n",
       "      <td>0</td>\n",
       "      <td>1</td>\n",
       "      <td>0.24</td>\n",
       "      <td>0.81</td>\n",
       "      <td>0.0</td>\n",
       "      <td>3</td>\n",
       "      <td>13</td>\n",
       "      <td>16</td>\n",
       "    </tr>\n",
       "    <tr>\n",
       "      <th>2</th>\n",
       "      <td>1</td>\n",
       "      <td>0</td>\n",
       "      <td>1</td>\n",
       "      <td>1</td>\n",
       "      <td>0</td>\n",
       "      <td>6</td>\n",
       "      <td>0</td>\n",
       "      <td>1</td>\n",
       "      <td>0.22</td>\n",
       "      <td>0.80</td>\n",
       "      <td>0.0</td>\n",
       "      <td>8</td>\n",
       "      <td>32</td>\n",
       "      <td>40</td>\n",
       "    </tr>\n",
       "    <tr>\n",
       "      <th>3</th>\n",
       "      <td>1</td>\n",
       "      <td>0</td>\n",
       "      <td>1</td>\n",
       "      <td>2</td>\n",
       "      <td>0</td>\n",
       "      <td>6</td>\n",
       "      <td>0</td>\n",
       "      <td>1</td>\n",
       "      <td>0.22</td>\n",
       "      <td>0.80</td>\n",
       "      <td>0.0</td>\n",
       "      <td>5</td>\n",
       "      <td>27</td>\n",
       "      <td>32</td>\n",
       "    </tr>\n",
       "    <tr>\n",
       "      <th>4</th>\n",
       "      <td>1</td>\n",
       "      <td>0</td>\n",
       "      <td>1</td>\n",
       "      <td>3</td>\n",
       "      <td>0</td>\n",
       "      <td>6</td>\n",
       "      <td>0</td>\n",
       "      <td>1</td>\n",
       "      <td>0.24</td>\n",
       "      <td>0.75</td>\n",
       "      <td>0.0</td>\n",
       "      <td>3</td>\n",
       "      <td>10</td>\n",
       "      <td>13</td>\n",
       "    </tr>\n",
       "    <tr>\n",
       "      <th>5</th>\n",
       "      <td>1</td>\n",
       "      <td>0</td>\n",
       "      <td>1</td>\n",
       "      <td>4</td>\n",
       "      <td>0</td>\n",
       "      <td>6</td>\n",
       "      <td>0</td>\n",
       "      <td>1</td>\n",
       "      <td>0.24</td>\n",
       "      <td>0.75</td>\n",
       "      <td>0.0</td>\n",
       "      <td>0</td>\n",
       "      <td>1</td>\n",
       "      <td>1</td>\n",
       "    </tr>\n",
       "  </tbody>\n",
       "</table>\n",
       "</div>"
      ],
      "text/plain": [
       "         season  yr  mnth  hr  holiday  weekday  workingday  weathersit  temp  \\\n",
       "instant                                                                         \n",
       "1             1   0     1   0        0        6           0           1  0.24   \n",
       "2             1   0     1   1        0        6           0           1  0.22   \n",
       "3             1   0     1   2        0        6           0           1  0.22   \n",
       "4             1   0     1   3        0        6           0           1  0.24   \n",
       "5             1   0     1   4        0        6           0           1  0.24   \n",
       "\n",
       "          hum  windspeed  casual  registered  cnt  \n",
       "instant                                            \n",
       "1        0.81        0.0       3          13   16  \n",
       "2        0.80        0.0       8          32   40  \n",
       "3        0.80        0.0       5          27   32  \n",
       "4        0.75        0.0       3          10   13  \n",
       "5        0.75        0.0       0           1    1  "
      ]
     },
     "execution_count": 64,
     "metadata": {},
     "output_type": "execute_result"
    }
   ],
   "source": [
    "print(raw_df.shape)\n",
    "raw_df.head(5)"
   ]
  },
  {
   "cell_type": "code",
   "execution_count": 65,
   "metadata": {},
   "outputs": [
    {
     "data": {
      "text/plain": [
       "season          int64\n",
       "yr              int64\n",
       "mnth            int64\n",
       "hr              int64\n",
       "holiday         int64\n",
       "weekday         int64\n",
       "workingday      int64\n",
       "weathersit      int64\n",
       "temp          float64\n",
       "hum           float64\n",
       "windspeed     float64\n",
       "casual          int64\n",
       "registered      int64\n",
       "cnt             int64\n",
       "dtype: object"
      ]
     },
     "execution_count": 65,
     "metadata": {},
     "output_type": "execute_result"
    }
   ],
   "source": [
    "raw_df.dtypes"
   ]
  },
  {
   "cell_type": "code",
   "execution_count": 66,
   "metadata": {},
   "outputs": [
    {
     "data": {
      "text/plain": [
       "Index         139032\n",
       "season        139032\n",
       "yr            139032\n",
       "mnth          139032\n",
       "hr            139032\n",
       "holiday       139032\n",
       "weekday       139032\n",
       "workingday    139032\n",
       "weathersit    139032\n",
       "temp          139032\n",
       "hum           139032\n",
       "windspeed     139032\n",
       "casual        139032\n",
       "registered    139032\n",
       "cnt           139032\n",
       "dtype: int64"
      ]
     },
     "execution_count": 66,
     "metadata": {},
     "output_type": "execute_result"
    }
   ],
   "source": [
    "raw_df.memory_usage()"
   ]
  },
  {
   "cell_type": "code",
   "execution_count": 67,
   "metadata": {},
   "outputs": [],
   "source": [
    "dtype_df = raw_df.dtypes\n",
    "cols_to_convert = dtype_df.loc[dtype_df==np.int64].index\n",
    "for c in cols_to_convert:\n",
    "    if c in ('casual', 'registered', 'cnt'):\n",
    "        raw_df[c] = raw_df[c].astype(np.int16)\n",
    "    else:\n",
    "        raw_df[c] = raw_df[c].astype(np.int8)"
   ]
  },
  {
   "cell_type": "code",
   "execution_count": 68,
   "metadata": {},
   "outputs": [
    {
     "data": {
      "text/plain": [
       "Index         139032\n",
       "season         17379\n",
       "yr             17379\n",
       "mnth           17379\n",
       "hr             17379\n",
       "holiday        17379\n",
       "weekday        17379\n",
       "workingday     17379\n",
       "weathersit     17379\n",
       "temp          139032\n",
       "hum           139032\n",
       "windspeed     139032\n",
       "casual         34758\n",
       "registered     34758\n",
       "cnt            34758\n",
       "dtype: int64"
      ]
     },
     "execution_count": 68,
     "metadata": {},
     "output_type": "execute_result"
    }
   ],
   "source": [
    "raw_df.memory_usage()"
   ]
  },
  {
   "cell_type": "code",
   "execution_count": 69,
   "metadata": {},
   "outputs": [
    {
     "data": {
      "text/plain": [
       "season           int8\n",
       "yr               int8\n",
       "mnth             int8\n",
       "hr               int8\n",
       "holiday          int8\n",
       "weekday          int8\n",
       "workingday       int8\n",
       "weathersit       int8\n",
       "temp          float64\n",
       "hum           float64\n",
       "windspeed     float64\n",
       "casual          int16\n",
       "registered      int16\n",
       "cnt             int16\n",
       "dtype: object"
      ]
     },
     "execution_count": 69,
     "metadata": {},
     "output_type": "execute_result"
    }
   ],
   "source": [
    "raw_df.dtypes"
   ]
  },
  {
   "cell_type": "code",
   "execution_count": 70,
   "metadata": {},
   "outputs": [],
   "source": [
    "def split_data(df:pd.DataFrame, which_target: str|list):\n",
    "    X = df.iloc[:, :-3].values # remove all 3 targets (casual, registered, cnt)\n",
    "    Y = df.loc[:, which_target].values\n",
    "    X_train, X_vt, Y_train, Y_vt = train_test_split(X, Y, test_size=0.3, shuffle=True, random_state=SEED)\n",
    "    assert X_train.shape[0] == Y_train.shape[0]\n",
    "    assert X_vt.shape[0] == Y_vt.shape[0]\n",
    "    assert X_train.shape[1] == X_vt.shape[1]\n",
    "\n",
    "    X_val, X_test, Y_val, Y_test = train_test_split(X_vt, Y_vt, test_size=0.5, shuffle=True, random_state=SEED)\n",
    "    assert X_val.shape[0] == Y_val.shape[0]\n",
    "    assert X_test.shape[0] == Y_test.shape[0]\n",
    "    assert X_val.shape[1] == X_test.shape[1]\n",
    "    return X_train, Y_train, X_val, Y_val, X_test, Y_test"
   ]
  },
  {
   "cell_type": "code",
   "execution_count": 71,
   "metadata": {},
   "outputs": [],
   "source": [
    "X_train, Y_train, X_val, Y_val, X_test, Y_test = split_data(raw_df, 'casual')"
   ]
  },
  {
   "cell_type": "markdown",
   "metadata": {},
   "source": [
    "# Defining architectures"
   ]
  },
  {
   "cell_type": "code",
   "execution_count": 81,
   "metadata": {},
   "outputs": [],
   "source": [
    "hyper_dict = {\n",
    "    'h_layers': [64, 32, 16],\n",
    "    'batch_norm_layers': [False, False, True],\n",
    "    'activations': ['relu', 'tanh', 'elu'],\n",
    "    'dropout_layers': [0.1, 0.2, 0.1],\n",
    "    'regularizers': [L1L2(l1=1e-5, l2=1e-4), L1L2(l1=1e-5, l2=1e-4), L1L2(l1=1e-5, l2=1e-4)],\n",
    "    'output_activation': 'sigmoid',\n",
    "    'optimizer': 'adam',\n",
    "    'loss': 'mae',\n",
    "    'metrics': ['mae', 'mse', 'accuracy']\n",
    "}\n"
   ]
  },
  {
   "cell_type": "code",
   "execution_count": 88,
   "metadata": {},
   "outputs": [],
   "source": [
    "def model_loop(hyper_dict, raw_df: pd.DataFrame, model_name: str, which_source: str|list):\n",
    "    # Get data\n",
    "    print(\"Getting data...\", end='')\n",
    "    data_parts = split_data(raw_df, which_source)\n",
    "    print(\"Done.\")\n",
    "    assert len(data_parts) == 6\n",
    "\n",
    "    hyper_dict['input_size'] = data_parts[0].shape[1]\n",
    "    assert data_parts[0].shape[1] == 11 # REMOVE AFTER TEST\n",
    "    \n",
    "    hyper_dict['output_size'] = data_parts[1].shape[1]\n",
    "    assert data_parts[1].shape[1] == len(which_source) # REMOVE AFTER TEST\n",
    "    \n",
    "    # Make model\n",
    "    print(\"Making model...\", end='')\n",
    "    model = Sequential()\n",
    "    model.add(Input(hyper_dict['input_size']))\n",
    "    for hu, ac, rg, bn, dp in zip(hyper_dict['h_layers'], hyper_dict['activations'], hyper_dict['regularizers'], hyper_dict['batch_norm_layers'], hyper_dict['dropout_layers']):\n",
    "        if rg is None:                    \n",
    "            model.add(Dense(hu, activation=ac))\n",
    "        else:\n",
    "            model.add(Dense(hu, activation=ac, kernel_regularizer=rg))\n",
    "        if bn:\n",
    "            model.add(BatchNormalization())\n",
    "        if dp > 0.0:\n",
    "            model.add(Dropout(dp))\n",
    "    model.add(Dense(hyper_dict['output_size'], activation=hyper_dict['output_activation']))\n",
    "    model.compile(optimizer=hyper_dict['optimizer'], loss=hyper_dict['loss'], metrics=hyper_dict['metrics'])\n",
    "    print(\"Done.\")\n",
    "\n",
    "    # Train model\n",
    "    print(\"Training model...\", end='')\n",
    "    es_cbk = EarlyStopping(monitor='val_loss', patience=5, restore_best_weights=True)\n",
    "    chp_cbk = ModelCheckpoint(monitor='val_loss', filepath=os.path.join(\"models\", model_name), save_best_only=True)\n",
    "    model_history = model.fit(data_parts[0], data_parts[1], epochs=200, batch_size=16, validation_data=(data_parts[2], data_parts[3]), callbacks=[es_cbk, chp_cbk], verbose=0)\n",
    "    print(\"Done.\")\n",
    "    \n",
    "    # Evaluate model\n",
    "    print(\"Evaluating model...\", end='')\n",
    "    Y_pred = model.predict(data_parts[-2], verbose=0)\n",
    "    mae = mean_absolute_error(data_parts[-1], Y_pred)\n",
    "    rmse = np.sqrt(mean_squared_error(data_parts[-1], Y_pred))\n",
    "    r2 = r2_score(data_parts[-1], Y_pred)\n",
    "    print(f\"MAE:{mae}\")\n",
    "    print(f\"RMSE:{rmse}\")\n",
    "    print(f\"R2:{r2}\")\n",
    "    print(\"Done\")\n",
    "    return mae, rmse, r2\n"
   ]
  },
  {
   "cell_type": "code",
   "execution_count": 83,
   "metadata": {},
   "outputs": [
    {
     "name": "stdout",
     "output_type": "stream",
     "text": [
      "Getting data...Done.\n",
      "Making model...Done.\n",
      "Training model...Done.\n",
      "Evaluating model...MAE:34.59532165527344\n",
      "RMSE:59.784080505371094\n",
      "R2:-0.49538491877289315\n",
      "Done\n"
     ]
    },
    {
     "data": {
      "text/plain": [
       "(34.59532, 59.78408, -0.49538491877289315)"
      ]
     },
     "execution_count": 83,
     "metadata": {},
     "output_type": "execute_result"
    }
   ],
   "source": [
    "model_loop(hyper_dict=hyper_dict ,raw_df=raw_df, model_name='casual_single', which_source=['casual'])"
   ]
  },
  {
   "cell_type": "code",
   "execution_count": 85,
   "metadata": {},
   "outputs": [
    {
     "name": "stdout",
     "output_type": "stream",
     "text": [
      "Getting data...Done.\n",
      "Making model...Done.\n",
      "Training model...Done.\n",
      "Evaluating model...MAE:150.47755432128906\n",
      "RMSE:209.51992797851562\n",
      "R2:-1.0652531481083285\n",
      "Done\n"
     ]
    },
    {
     "data": {
      "text/plain": [
       "(150.47755, 209.51993, -1.0652531481083285)"
      ]
     },
     "execution_count": 85,
     "metadata": {},
     "output_type": "execute_result"
    }
   ],
   "source": [
    "model_loop(hyper_dict=hyper_dict, raw_df=raw_df, model_name='registered_single', which_source=['registered'])\n"
   ]
  },
  {
   "cell_type": "code",
   "execution_count": null,
   "metadata": {},
   "outputs": [
    {
     "name": "stdout",
     "output_type": "stream",
     "text": [
      "Getting data...Done.\n",
      "Making model...Done.\n",
      "Training model...Done.\n",
      "Evaluating model...MAE:26.94536781311035\n",
      "RMSE:51.045265197753906\n",
      "R2:0.7726866684665508\n",
      "Done\n"
     ]
    },
    {
     "data": {
      "text/plain": [
       "(26.945368, 51.045265, 0.7726866684665508)"
      ]
     },
     "execution_count": 90,
     "metadata": {},
     "output_type": "execute_result"
    }
   ],
   "source": [
    "model_loop(hyper_dict=hyper_dict, raw_df=raw_df, model_name='both', which_source=['casual','registered'])"
   ]
  }
 ],
 "metadata": {
  "kernelspec": {
   "display_name": "Python 3.11.2 64-bit",
   "language": "python",
   "name": "python3"
  },
  "language_info": {
   "codemirror_mode": {
    "name": "ipython",
    "version": 3
   },
   "file_extension": ".py",
   "mimetype": "text/x-python",
   "name": "python",
   "nbconvert_exporter": "python",
   "pygments_lexer": "ipython3",
   "version": "3.10.10"
  },
  "orig_nbformat": 4,
  "vscode": {
   "interpreter": {
    "hash": "5238573367df39f7286bb46f9ff5f08f63a01a80960060ce41e3c79b190280fa"
   }
  }
 },
 "nbformat": 4,
 "nbformat_minor": 2
}
